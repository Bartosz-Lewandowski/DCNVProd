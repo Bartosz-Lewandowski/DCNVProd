{
 "cells": [
  {
   "cell_type": "code",
   "execution_count": 1,
   "metadata": {},
   "outputs": [],
   "source": [
    "from Bio import SeqIO"
   ]
  },
  {
   "cell_type": "code",
   "execution_count": 1,
   "metadata": {},
   "outputs": [
    {
     "ename": "NameError",
     "evalue": "name 'SeqIO' is not defined",
     "output_type": "error",
     "traceback": [
      "\u001b[0;31m---------------------------------------------------------------------------\u001b[0m",
      "\u001b[0;31mNameError\u001b[0m                                 Traceback (most recent call last)",
      "\u001b[1;32m/home/bartek/nauka/Praca_magisterska/test.ipynb Cell 2'\u001b[0m in \u001b[0;36m<cell line: 3>\u001b[0;34m()\u001b[0m\n\u001b[1;32m      <a href='vscode-notebook-cell:/home/bartek/nauka/Praca_magisterska/test.ipynb#ch0000001?line=2'>3</a>\u001b[0m \u001b[39mwith\u001b[39;00m \u001b[39mopen\u001b[39m(\u001b[39m\"\u001b[39m\u001b[39mSus_scrofa.Sscrofa11.1.dna.chromosome.1.fa\u001b[39m\u001b[39m\"\u001b[39m) \u001b[39mas\u001b[39;00m handle:\n\u001b[1;32m      <a href='vscode-notebook-cell:/home/bartek/nauka/Praca_magisterska/test.ipynb#ch0000001?line=3'>4</a>\u001b[0m     taken_places \u001b[39m=\u001b[39m []\n\u001b[0;32m----> <a href='vscode-notebook-cell:/home/bartek/nauka/Praca_magisterska/test.ipynb#ch0000001?line=4'>5</a>\u001b[0m     \u001b[39mfor\u001b[39;00m record \u001b[39min\u001b[39;00m SeqIO\u001b[39m.\u001b[39mparse(handle, \u001b[39m\"\u001b[39m\u001b[39mfasta\u001b[39m\u001b[39m\"\u001b[39m):\n\u001b[1;32m      <a href='vscode-notebook-cell:/home/bartek/nauka/Praca_magisterska/test.ipynb#ch0000001?line=5'>6</a>\u001b[0m         file_len \u001b[39m=\u001b[39m \u001b[39mlen\u001b[39m(record\u001b[39m.\u001b[39mseq)\n\u001b[1;32m      <a href='vscode-notebook-cell:/home/bartek/nauka/Praca_magisterska/test.ipynb#ch0000001?line=6'>7</a>\u001b[0m         \u001b[39mfor\u001b[39;00m cnv \u001b[39min\u001b[39;00m \u001b[39mrange\u001b[39m(CNV_num):\n",
      "\u001b[0;31mNameError\u001b[0m: name 'SeqIO' is not defined"
     ]
    }
   ],
   "source": [
    "def overlaps(cnv_len, file_len, taken_places):\n",
    "    start = random.randint(1, file_len - cnv_len)\n",
    "    stop = start + cnv_len\n",
    "    for start_taken, stop_taken in taken_places:\n",
    "        if (start >= start_taken and start <= stop_taken) or \\\n",
    "            (stop <= stop_taken and stop >= start_taken):\n",
    "            return False\n",
    "    return True\n"
   ]
  },
  {
   "cell_type": "code",
   "execution_count": 21,
   "metadata": {},
   "outputs": [
    {
     "name": "stdout",
     "output_type": "stream",
     "text": [
      "Creating duplication\n",
      "[]\n",
      "Creating duplication\n",
      "[(34289351, 34345301)]\n",
      "Creating duplication\n",
      "[(34289351, 34345301), (215701130, 215799633)]\n",
      "Creating duplication\n",
      "[(34289351, 34345301), (215701130, 215799633), (49898482, 49935704)]\n",
      "Creating deletion\n",
      "[(34289351, 34345301), (215701130, 215799633), (49898482, 49935704), (187890662, 187935508)]\n",
      "Creating deletion\n",
      "[(34289351, 34345301), (215701130, 215799633), (49898482, 49935704), (187890662, 187935508), (200517868, 200569990)]\n",
      "Creating duplication\n",
      "[(34289351, 34345301), (215701130, 215799633), (49898482, 49935704), (187890662, 187935508), (200517868, 200569990), (108079867, 108176335)]\n",
      "Creating deletion\n",
      "[(34289351, 34345301), (215701130, 215799633), (49898482, 49935704), (187890662, 187935508), (200517868, 200569990), (108079867, 108176335), (38490156, 38580980)]\n",
      "Creating duplication\n",
      "[(34289351, 34345301), (215701130, 215799633), (49898482, 49935704), (187890662, 187935508), (200517868, 200569990), (108079867, 108176335), (38490156, 38580980), (209752486, 209807165)]\n",
      "Creating deletion\n",
      "[(34289351, 34345301), (215701130, 215799633), (49898482, 49935704), (187890662, 187935508), (200517868, 200569990), (108079867, 108176335), (38490156, 38580980), (209752486, 209807165), (200408954, 200468822)]\n",
      "Creating deletion\n",
      "[(34289351, 34345301), (215701130, 215799633), (49898482, 49935704), (187890662, 187935508), (200517868, 200569990), (108079867, 108176335), (38490156, 38580980), (209752486, 209807165), (200408954, 200468822), (108755359, 108832811)]\n",
      "Creating deletion\n",
      "[(34289351, 34345301), (215701130, 215799633), (49898482, 49935704), (187890662, 187935508), (200517868, 200569990), (108079867, 108176335), (38490156, 38580980), (209752486, 209807165), (200408954, 200468822), (108755359, 108832811), (39789419, 39844567)]\n",
      "Creating duplication\n",
      "[(34289351, 34345301), (215701130, 215799633), (49898482, 49935704), (187890662, 187935508), (200517868, 200569990), (108079867, 108176335), (38490156, 38580980), (209752486, 209807165), (200408954, 200468822), (108755359, 108832811), (39789419, 39844567), (183459804, 183516462)]\n",
      "Creating deletion\n",
      "[(34289351, 34345301), (215701130, 215799633), (49898482, 49935704), (187890662, 187935508), (200517868, 200569990), (108079867, 108176335), (38490156, 38580980), (209752486, 209807165), (200408954, 200468822), (108755359, 108832811), (39789419, 39844567), (183459804, 183516462), (224721153, 224820151)]\n",
      "Creating deletion\n",
      "[(34289351, 34345301), (215701130, 215799633), (49898482, 49935704), (187890662, 187935508), (200517868, 200569990), (108079867, 108176335), (38490156, 38580980), (209752486, 209807165), (200408954, 200468822), (108755359, 108832811), (39789419, 39844567), (183459804, 183516462), (224721153, 224820151), (56539741, 56615975)]\n",
      "Creating deletion\n",
      "[(34289351, 34345301), (215701130, 215799633), (49898482, 49935704), (187890662, 187935508), (200517868, 200569990), (108079867, 108176335), (38490156, 38580980), (209752486, 209807165), (200408954, 200468822), (108755359, 108832811), (39789419, 39844567), (183459804, 183516462), (224721153, 224820151), (56539741, 56615975), (43169735, 43219503)]\n",
      "Creating deletion\n",
      "[(34289351, 34345301), (215701130, 215799633), (49898482, 49935704), (187890662, 187935508), (200517868, 200569990), (108079867, 108176335), (38490156, 38580980), (209752486, 209807165), (200408954, 200468822), (108755359, 108832811), (39789419, 39844567), (183459804, 183516462), (224721153, 224820151), (56539741, 56615975), (43169735, 43219503), (161930697, 161956363)]\n",
      "Creating deletion\n",
      "[(34289351, 34345301), (215701130, 215799633), (49898482, 49935704), (187890662, 187935508), (200517868, 200569990), (108079867, 108176335), (38490156, 38580980), (209752486, 209807165), (200408954, 200468822), (108755359, 108832811), (39789419, 39844567), (183459804, 183516462), (224721153, 224820151), (56539741, 56615975), (43169735, 43219503), (161930697, 161956363), (216510825, 216609579)]\n",
      "Creating deletion\n",
      "[(34289351, 34345301), (215701130, 215799633), (49898482, 49935704), (187890662, 187935508), (200517868, 200569990), (108079867, 108176335), (38490156, 38580980), (209752486, 209807165), (200408954, 200468822), (108755359, 108832811), (39789419, 39844567), (183459804, 183516462), (224721153, 224820151), (56539741, 56615975), (43169735, 43219503), (161930697, 161956363), (216510825, 216609579), (267679716, 267731473)]\n",
      "Creating deletion\n",
      "[(34289351, 34345301), (215701130, 215799633), (49898482, 49935704), (187890662, 187935508), (200517868, 200569990), (108079867, 108176335), (38490156, 38580980), (209752486, 209807165), (200408954, 200468822), (108755359, 108832811), (39789419, 39844567), (183459804, 183516462), (224721153, 224820151), (56539741, 56615975), (43169735, 43219503), (161930697, 161956363), (216510825, 216609579), (267679716, 267731473), (127127494, 127138916)]\n",
      "[(34289351, 34345301), (215701130, 215799633), (49898482, 49935704), (187890662, 187935508), (200517868, 200569990), (108079867, 108176335), (38490156, 38580980), (209752486, 209807165), (200408954, 200468822), (108755359, 108832811), (39789419, 39844567), (183459804, 183516462), (224721153, 224820151), (56539741, 56615975), (43169735, 43219503), (161930697, 161956363), (216510825, 216609579), (267679716, 267731473), (127127494, 127138916), (77304721, 77345461)]\n"
     ]
    }
   ],
   "source": [
    "import random\n",
    "CNV_num = 20\n",
    "with open(\"Sus_scrofa.Sscrofa11.1.dna.chromosome.1.fa\") as handle:\n",
    "    taken_places = []\n",
    "    for record in SeqIO.parse(handle, \"fasta\"):\n",
    "        record_str = str(record.seq)\n",
    "        file_len = len(record.seq)\n",
    "        for cnv in range(CNV_num):\n",
    "            cnv_range = random.randint(50,100000)\n",
    "            cnv_type = random.choice(['del','dup'])\n",
    "            if cnv_type == 'dup':\n",
    "                print(\"Creating duplication\")\n",
    "                print(taken_places)\n",
    "                wrong_cnv_coords = True\n",
    "                while wrong_cnv_coords: \n",
    "                    start = random.randint(1, file_len - cnv_range)\n",
    "                    stop = start + cnv_range + 1\n",
    "                    if taken_places:\n",
    "                        for start_taken, stop_taken in taken_places:\n",
    "                            if not (start >= start_taken and start <= stop_taken) or not \\\n",
    "                                (stop <= stop_taken and stop >= start_taken):\n",
    "                                wrong_cnv_coords = False\n",
    "                    else:\n",
    "                        wrong_cnv_coords = False\n",
    "                record_str = record_str[:start] + random.choice([\"A\",\"C\",\"G\",\"T\"]) * cnv_range + record_str[stop:]    \n",
    "                taken_places.append((start, stop))\n",
    "            elif cnv_type == 'del':\n",
    "                print(\"Creating deletion\")\n",
    "                print(taken_places)\n",
    "                wrong_cnv_coords = True\n",
    "                while wrong_cnv_coords: \n",
    "                    start = random.randint(1, file_len - cnv_range)\n",
    "                    stop = start + cnv_range + 1\n",
    "                    if taken_places:\n",
    "                        for start_taken, stop_taken in taken_places:\n",
    "                            if not (start >= start_taken and start <= stop_taken) or not \\\n",
    "                                (stop <= stop_taken and stop >= start_taken):\n",
    "                                wrong_cnv_coords = False\n",
    "                    else:\n",
    "                        wrong_cnv_coords = False\n",
    "                record_str = record_str[:start] + record_str[stop:]    \n",
    "                taken_places.append((start, stop))\n",
    "                \n",
    "    print(taken_places)\n",
    "                        \n",
    " \n",
    "\n",
    "\n",
    "\n"
   ]
  },
  {
   "cell_type": "code",
   "execution_count": 16,
   "metadata": {},
   "outputs": [
    {
     "name": "stdout",
     "output_type": "stream",
     "text": [
      "274330532\n",
      "274330532\n",
      "TTTTTTTTTTGTCATTTCT\n"
     ]
    }
   ],
   "source": [
    "with open(\"Sus_scrofa.Sscrofa11.1.dna.chromosome.1.fa\") as handle:\n",
    "    taken_places = []\n",
    "    for record in SeqIO.parse(handle, \"fasta\"):\n",
    "        record_str = str(record.seq)\n",
    "        print(len(record_str))\n",
    "        record_str = record_str[:1] + (\"T\" * 9) + record_str[10:]\n",
    "        print(len(record_str))\n",
    "        print(record_str[1:20])"
   ]
  },
  {
   "cell_type": "code",
   "execution_count": 15,
   "metadata": {},
   "outputs": [
    {
     "data": {
      "text/plain": [
       "'eeeeee'"
      ]
     },
     "execution_count": 15,
     "metadata": {},
     "output_type": "execute_result"
    }
   ],
   "source": [
    "\"e\" * 6"
   ]
  },
  {
   "cell_type": "code",
   "execution_count": 7,
   "metadata": {},
   "outputs": [
    {
     "name": "stdout",
     "output_type": "stream",
     "text": [
      "Generating duplication and deletion coordinates\n",
      "       1          2          3     4\n",
      "0      1  225001747  225002689   942\n",
      "1      1   89402865   89403871  1006\n",
      "2      1   54498095   54499074   979\n",
      "3      1  214044384  214045421  1037\n",
      "4      1  168533841  168534872  1031\n",
      "...   ..        ...        ...   ...\n",
      "13712  1  220135076  220136194  1118\n",
      "13713  1  201601797  201602775   978\n",
      "13714  1   99490232   99491251  1019\n",
      "13715  1   54353951   54354928   977\n",
      "13716  1  153210590  153211588   998\n",
      "\n",
      "[13717 rows x 4 columns]\n"
     ]
    },
    {
     "name": "stderr",
     "output_type": "stream",
     "text": [
      "/tmp/ipykernel_4171/2451843187.py:32: FutureWarning: The frame.append method is deprecated and will be removed from pandas in a future version. Use pandas.concat instead.\n",
      "  df_dup = df_dup.append(dups)\n",
      "/tmp/ipykernel_4171/2451843187.py:33: FutureWarning: The frame.append method is deprecated and will be removed from pandas in a future version. Use pandas.concat instead.\n",
      "  df_del = df_del.append(dels)\n"
     ]
    }
   ],
   "source": [
    "import pandas as pd\n",
    "import numpy as np\n",
    "from Bio import SeqIO\n",
    "import random\n",
    "import os\n",
    "df_del = pd.DataFrame(columns = [1,2,3,4])\n",
    "df_dup = pd.DataFrame(columns = [1,2,3,4])\n",
    "pathOut = \".\"\n",
    "if pathOut != \"\" and pathOut.endswith(\"/\") == False:\n",
    "    pathOut += \"/\"\n",
    "out = open(pathOut + \"chrs.bed\",\"w\")\n",
    "print(\"Generating duplication and deletion coordinates\")\n",
    "for r in SeqIO.parse(open(\"Sus_scrofa.Sscrofa11.1.dna.chromosome.1.fa\"),\"fasta\"):\n",
    "    out.write(\"\\t\".join([r.id,\"1\",str(len(str(r.seq)))]) + \"\\n\")\n",
    "    dup_lengths = []\n",
    "    del_lengths = []\n",
    "    cnv_count = round((len(str(r.seq))/1000000)*50)\n",
    "    while len(dup_lengths) < cnv_count:\n",
    "        x = round(np.random.normal(1000, 50, 1)[0])\n",
    "        if x > 50:\n",
    "            dup_lengths.append(x)\n",
    "    while len(del_lengths) < cnv_count:\n",
    "        x = round(np.random.normal(1000, 50, 1)[0])\n",
    "        if x > 50:\n",
    "            del_lengths.append(x)\n",
    "    dup_start = list(np.random.randint(len(str(r.seq)), size=(1, cnv_count))[0])\n",
    "    del_start = list(np.random.randint(len(str(r.seq)), size=(1, cnv_count))[0])\n",
    "    dup_ends = list(map(int,[a + b for a, b in zip(dup_start, dup_lengths)]))\n",
    "    del_ends = list(map(int,[a + b for a, b in zip(del_start, del_lengths)]))\n",
    "    dups = pd.DataFrame({1:[r.id]*cnv_count,2:dup_start,3:dup_ends,4:dup_lengths})\n",
    "    dels = pd.DataFrame({1:[r.id]*cnv_count,2:del_start,3:del_ends,4:del_lengths})\n",
    "    df_dup = df_dup.append(dups)\n",
    "    df_del = df_del.append(dels)\n",
    "out.close()\n",
    "print(df_dup)\n",
    "df_dup.to_csv(pathOut + \"dup.bed\",header=False,index=False,sep=\"\\t\")\n",
    "df_del.to_csv(pathOut + \"del.bed\",header=False,index=False,sep=\"\\t\")\n",
    "os.system(bedtools_path + \" sort -i \" + pathOut + \"dup.bed | \" + bedtools_path + \" merge -i stdin > \" + pathOut + \"dup2.bed\")\n",
    "os.system(bedtools_path + \" sort -i \" + pathOut + \"del.bed | \" + bedtools_path + \" merge -i stdin > \" + pathOut + \"del2.bed\")\n",
    "if args.TE is not None:\n",
    "    os.system(bedtools_path + \" intersect -v -wa -a \"+ pathOut + \"del2.bed -b \" + args.TE + \" -f \" + str(args.CUTOFF) + \" > \"+ pathOut + \"del3.bed\")\n",
    "    os.system(bedtools_path + \" intersect -v -wa -a \"+ pathOut + \"dup2.bed -b \" + args.TE + \" -f \" + str(args.CUTOFF) + \" > \"+ pathOut + \"dup3.bed\")\n",
    "elif args.TE is None:\n",
    "    os.system(\"cp \"+ pathOut + \"del2.bed \"+ pathOut + \"del3.bed\")\n",
    "    os.system(\"cp \"+ pathOut + \"dup2.bed \"+ pathOut + \"dup3.bed\")\n",
    "os.system(bedtools_path + \" intersect -wa -v -a \" + pathOut + \"dup3.bed -b \" + pathOut + \"del3.bed > \" + pathOut + \"dup4.bed\")\n",
    "os.system(bedtools_path + \" intersect -wa -v -a \" + pathOut + \"del3.bed -b \" + pathOut + \"dup3.bed > \" + pathOut + \"del4.bed\")\n",
    "no_chrs = list(range(1, int(args.NUMBER)+1))\n",
    "chr_freq = {}\n",
    "for i in no_chrs:\n",
    "    chr_freq[i] = i/args.NUMBER\n",
    "no_chrs = list(range(1, int(args.NUMBER)+1))\n",
    "chr_freq = {}\n",
    "if args.QUIET == False:\n",
    "    print(\"Generating duplication and deletion frequencies\")\n",
    "for i in no_chrs:\n",
    "    chr_freq[i] = round(i/args.NUMBER,3)\n",
    "for i in [\"del\",\"dup\"]:\n",
    "    out = open(pathOut + str(i) + \"5.bed\",\"w\")\n",
    "    for line in open(pathOut + i + \"4.bed\"):\n",
    "        if i == \"del\":\n",
    "            num = random.randint(1,args.NUMBER)\n",
    "            out.write(line.rstrip() + \"\\tdel\\t\" + str(chr_freq[num]) + \"\\t0\\n\")\n",
    "        elif i == \"dup\":\n",
    "            num = random.randint(1,args.NUMBER)\n",
    "            count = np.random.choice([2,3,4,5,6,7,8,9,10], 1, p=[0.5, 0.1, 0.1, 0.05, 0.05,0.05,0.05,0.05,0.05])[0]\n",
    "            freqs = num/args.NUMBER\n",
    "            cp = (count*freqs) + ((1-freqs) * 1)\n",
    "            while cp == 1.0:\n",
    "                num = random.randint(1,args.NUMBER)\n",
    "                count = np.random.choice([2,3,4,5,6,7,8,9,10], 1, p=[0.5, 0.1, 0.1, 0.05, 0.05,0.05,0.05,0.05,0.05])[0]\n",
    "            out.write(line.rstrip() + \"\\tdup\\t\" + str(chr_freq[num]) + \"\\t\" + str(count) + \"\\n\")\n",
    "    out.close()\n",
    "    for j in chr_freq:\n",
    "        out = open(pathOut + i + \".\" + str(j) + \".bed\",\"w\")\n",
    "        for line in open(pathOut + i + \"5.bed\"):\n",
    "            if float(line.split()[4]) >= chr_freq[j]:\n",
    "                out.write(line)\n",
    "        out.close()\n",
    "if args.QUIET == False:\n",
    "    print(\"Removing overlaps, generating total file\")\n",
    "for i in no_chrs:\n",
    "    print(\"Creating bedfiles for sample \" + str(i))\n",
    "    os.system(\"bedtools makewindows -b \" + pathOut + \"chrs.bed -w 5 > \" + pathOut + \"normal.\" + str(i) + \".bed\")\n",
    "    os.system(bedtools_path + \" intersect -v -wa -a \" + pathOut + \"normal.\" + str(i) + \".bed -b \" + pathOut + \"dup.\" + str(i) + \".bed | \" + bedtools_path + \" intersect -v -wa -a stdin -b \" + pathOut + \"del.\" + str(i) + \".bed | \" + bedtools_path + \" sort -i stdin | \" + bedtools_path + \" merge -i stdin > \" + pathOut + \"normal2.\" + str(i) + \".bed\")\n",
    "    out = open(pathOut + \"normal3.\" + str(i) + \".bed\",\"w\")\n",
    "    for line in open(pathOut + \"normal2.\" + str(i) + \".bed\"):\n",
    "        out.write(line.rstrip() + \"\\tnormal\\t1\\t1\\n\")\n",
    "    out.close()\n",
    "    os.system(\"cat \" + pathOut + \"normal3.\" + str(i) + \".bed \" + pathOut + \"dup.\" + str(i) + \".bed \" + pathOut + \"del.\" + str(i) + \".bed | \" + bedtools_path + \" sort -i stdin > \" + pathOut + \"total.\" + str(i) + \".bed\")\n",
    "    os.remove(pathOut + \"normal3.\" + str(i) + \".bed\")\n",
    "    os.remove(pathOut + \"normal2.\" + str(i) + \".bed\")\n",
    "    os.remove(pathOut + \"normal.\" + str(i) + \".bed\")\n",
    "os.remove(pathOut + \"del.bed\")\n",
    "os.remove(pathOut + \"del2.bed\")\n",
    "os.remove(pathOut + \"del3.bed\")\n",
    "os.remove(pathOut + \"del4.bed\")\n",
    "os.remove(pathOut + \"del5.bed\")\n",
    "os.remove(pathOut + \"dup.bed\")\n",
    "os.remove(pathOut + \"dup2.bed\")\n",
    "os.remove(pathOut + \"dup3.bed\")\n",
    "os.remove(pathOut + \"dup4.bed\")\n",
    "os.remove(pathOut + \"dup5.bed\")\n",
    "os.remove(pathOut + \"chrs.bed\") "
   ]
  },
  {
   "cell_type": "code",
   "execution_count": null,
   "metadata": {},
   "outputs": [],
   "source": []
  }
 ],
 "metadata": {
  "interpreter": {
   "hash": "97cc609b13305c559618ec78a438abc56230b9381f827f22d070313b9a1f3777"
  },
  "kernelspec": {
   "display_name": "Python 3.10.4 64-bit",
   "language": "python",
   "name": "python3"
  },
  "language_info": {
   "codemirror_mode": {
    "name": "ipython",
    "version": 3
   },
   "file_extension": ".py",
   "mimetype": "text/x-python",
   "name": "python",
   "nbconvert_exporter": "python",
   "pygments_lexer": "ipython3",
   "version": "3.10.4"
  },
  "orig_nbformat": 4
 },
 "nbformat": 4,
 "nbformat_minor": 2
}
